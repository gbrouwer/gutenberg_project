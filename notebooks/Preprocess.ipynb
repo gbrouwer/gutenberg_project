{
 "cells": [
  {
   "cell_type": "markdown",
   "metadata": {},
   "source": [
    "### Import"
   ]
  },
  {
   "cell_type": "code",
   "execution_count": 33,
   "metadata": {},
   "outputs": [],
   "source": [
    "import os\n",
    "import sys\n",
    "import numpy as pd\n",
    "import pandas as pd\n",
    "from tqdm import tqdm"
   ]
  },
  {
   "cell_type": "markdown",
   "metadata": {},
   "source": [
    "### Find zip files"
   ]
  },
  {
   "cell_type": "code",
   "execution_count": 34,
   "metadata": {},
   "outputs": [],
   "source": [
    "zipfiles = []\n",
    "for root, dirs, files in os.walk(\"../data/raw/\", topdown=False):\n",
    "    for name in files:\n",
    "        if '.ZIP' in name:\n",
    "            zipfiles.append(os.path.join(root, name))"
   ]
  },
  {
   "cell_type": "markdown",
   "metadata": {},
   "source": [
    "### Unzip files to new directory with new name"
   ]
  },
  {
   "cell_type": "code",
   "execution_count": 3,
   "metadata": {},
   "outputs": [
    {
     "name": "stderr",
     "output_type": "stream",
     "text": [
      "100%|██████████| 34170/34170 [12:00<00:00, 47.45it/s]  \n"
     ]
    }
   ],
   "source": [
    "counter = 0\n",
    "for i in tqdm(range(len(zipfiles))):\n",
    "    cmd = 'unzip ' + zipfiles[i]\n",
    "    os.system(cmd)\n",
    "    for root, dirs, files in os.walk(\".\", topdown=False):\n",
    "        for name in files:\n",
    "            if '.txt' in name:\n",
    "                savename = '../data/unpacked/' + str(counter) + '.txt'\n",
    "                counter = counter + 1\n",
    "                cmd = 'mv ' + name + ' ' + savename\n",
    "                os.system(cmd)\n",
    "            if '.TXT' in name:\n",
    "                savename = '../data/unpacked/' + str(counter) + '.txt'\n",
    "                counter = counter + 1\n",
    "                cmd = 'mv ' + name + ' ' + savename\n",
    "                os.system(cmd)\n",
    "            if '.htm' in name:\n",
    "                cmd = 'rm -r ' + name\n",
    "                os.system(cmd)   \n",
    "            if '.lit' in name:\n",
    "                cmd = 'rm -r ' + name\n",
    "                os.system(cmd)   \n",
    "            if '.brl' in name:\n",
    "                cmd = 'rm -r ' + name\n",
    "                os.system(cmd)   \n",
    "            if '.gif' in name:\n",
    "                cmd = 'rm -r ' + name\n",
    "                os.system(cmd)   \n",
    "            if '.tex' in name:\n",
    "                cmd = 'rm -r ' + name\n",
    "                os.system(cmd)   \n",
    "            if '.jpg' in name:\n",
    "                cmd = 'rm -r ' + name\n",
    "                os.system(cmd)   \n",
    "            if '.doc' in name:\n",
    "                cmd = 'rm -r ' + name\n",
    "                os.system(cmd)   \n",
    "            if '.rtf' in name:\n",
    "                cmd = 'rm -r ' + name\n",
    "                os.system(cmd)   \n",
    "            if '.eps' in name:\n",
    "                cmd = 'rm -r ' + name\n",
    "                os.system(cmd)   \n",
    "            if '.brl' in name:\n",
    "                cmd = 'rm -r ' + name\n",
    "                os.system(cmd)   \n",
    "            if '.pdf' in name:\n",
    "                cmd = 'rm -r ' + name\n",
    "                os.system(cmd)   \n",
    "        for name in dirs:\n",
    "            cmd = 'rm -r ' + name\n",
    "            os.system(cmd)   "
   ]
  },
  {
   "cell_type": "markdown",
   "metadata": {},
   "source": [
    "### Find txt files"
   ]
  },
  {
   "cell_type": "code",
   "execution_count": 43,
   "metadata": {},
   "outputs": [],
   "source": [
    "txtfiles = []\n",
    "for root, dirs, files in os.walk(\"../data/unpacked/\", topdown=False):\n",
    "    for name in files:\n",
    "        if '.txt' in name:\n",
    "            txtfiles.append(os.path.join(root, name))"
   ]
  },
  {
   "cell_type": "markdown",
   "metadata": {},
   "source": [
    "### Derive Title, Author and Language, if possible"
   ]
  },
  {
   "cell_type": "code",
   "execution_count": 44,
   "metadata": {},
   "outputs": [
    {
     "name": "stderr",
     "output_type": "stream",
     "text": [
      "100%|██████████| 31653/31653 [03:01<00:00, 174.23it/s]\n"
     ]
    }
   ],
   "source": [
    "counter = 0\n",
    "database = []\n",
    "for j in tqdm(range(len(txtfiles))):\n",
    "    title = ''\n",
    "    author = ''\n",
    "    language = ''\n",
    "    with open(txtfiles[j],'r') as f:\n",
    "        for i in range(100):\n",
    "            line = f.readline().rstrip()\n",
    "            if (line[:6] == 'Title:'):\n",
    "                title = line[7:].lower()\n",
    "                title = title.replace(',',' ')\n",
    "            if (line[:7] == 'Author:'):\n",
    "                author = line[8:].lower()\n",
    "                author = author.replace(',',' ')\n",
    "            if (line[:9] == 'Language:'):\n",
    "                language = line[10:].lower()\n",
    "        if (len(title) > 0 and len(author) > 0):\n",
    "            savename = '../data/cleaned/' + str(counter) + '.txt'\n",
    "            counter = counter + 1\n",
    "            cmd = 'cp ' + txtfiles[j] + ' ' + savename\n",
    "            os.system(cmd)\n",
    "            database.append((savename,author,title,language))"
   ]
  },
  {
   "cell_type": "markdown",
   "metadata": {},
   "source": [
    "### Save database"
   ]
  },
  {
   "cell_type": "code",
   "execution_count": 46,
   "metadata": {},
   "outputs": [],
   "source": [
    "database = pd.DataFrame(database)\n",
    "database.columns = ['filename','author','title','language']\n",
    "database.to_csv('../data/database.csv',index=False)"
   ]
  },
  {
   "cell_type": "code",
   "execution_count": null,
   "metadata": {},
   "outputs": [],
   "source": []
  }
 ],
 "metadata": {
  "kernelspec": {
   "display_name": "Python 2",
   "language": "python",
   "name": "python2"
  },
  "language_info": {
   "codemirror_mode": {
    "name": "ipython",
    "version": 2
   },
   "file_extension": ".py",
   "mimetype": "text/x-python",
   "name": "python",
   "nbconvert_exporter": "python",
   "pygments_lexer": "ipython2",
   "version": "2.7.15"
  }
 },
 "nbformat": 4,
 "nbformat_minor": 2
}
